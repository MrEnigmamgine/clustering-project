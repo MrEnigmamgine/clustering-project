{
 "cells": [
  {
   "cell_type": "markdown",
   "metadata": {},
   "source": [
    "# Modeling\n",
    "By Joshua Mayes 08/07/2022"
   ]
  },
  {
   "cell_type": "code",
   "execution_count": 1,
   "metadata": {},
   "outputs": [],
   "source": [
    "import pandas as pd\n",
    "import numpy as np\n",
    "\n",
    "import matplotlib.pyplot as plt\n",
    "import seaborn as sns\n",
    "\n",
    "from sklearn.cluster import KMeans\n",
    "from sklearn import metrics\n",
    "\n",
    "\n",
    "import wrangle\n",
    "import my_toolkit\n",
    "\n",
    "SEED = 8"
   ]
  },
  {
   "cell_type": "code",
   "execution_count": 2,
   "metadata": {},
   "outputs": [],
   "source": [
    "pd.options.display.max_columns = None"
   ]
  },
  {
   "cell_type": "markdown",
   "metadata": {},
   "source": [
    "## About this Notebook\n",
    "\n",
    "In this notebook we will be building and evaluating the performance of machine learning models and selecting the best performer."
   ]
  },
  {
   "cell_type": "markdown",
   "metadata": {},
   "source": [
    "### Notebook plan\n",
    "- Prepare data\n",
    "    - Scale\n",
    "    - Cluster\n",
    "    - Dummy columns\n",
    "- Models\n",
    "    - LR on only clusters\n",
    "    - LR on each cluster only\n",
    "    - RFR on entire dataset"
   ]
  },
  {
   "cell_type": "markdown",
   "metadata": {},
   "source": [
    "## Prepare data"
   ]
  },
  {
   "cell_type": "markdown",
   "metadata": {},
   "source": [
    "### Config variables and helper functions\n",
    "\n",
    "During exploration I was able to identify some useful clusters.  These variable will help cleanly create those clusters."
   ]
  },
  {
   "cell_type": "code",
   "execution_count": 3,
   "metadata": {},
   "outputs": [],
   "source": [
    "## Import the data\n",
    "train, test, validate = wrangle.wrangle_zillow()\n",
    "## Make a backup in case I mess something up later\n",
    "orig_samples = {\n",
    "    'train': train.copy(),\n",
    "    'test': test.copy(),\n",
    "    'validate': validate.copy()\n",
    "}"
   ]
  },
  {
   "cell_type": "code",
   "execution_count": 4,
   "metadata": {},
   "outputs": [],
   "source": [
    "def build_kmeans_clusterer(df, cols, k, seed=SEED):\n",
    "    from sklearn.cluster import KMeans\n",
    "    clusterer = KMeans(n_clusters=k, random_state=seed)\n",
    "    clusterer.fit(df[cols])\n",
    "    return clusterer"
   ]
  },
  {
   "cell_type": "code",
   "execution_count": 5,
   "metadata": {},
   "outputs": [],
   "source": [
    "def get_kmeans_clusters(df, cols, k, clusterer=None):\n",
    "    if clusterer == None:\n",
    "        from sklearn.cluster import KMeans\n",
    "        clusterer = KMeans(n_clusters=k)\n",
    "        clusterer.fit(df[cols])\n",
    "    s = clusterer.predict(df[cols])\n",
    "    return s"
   ]
  },
  {
   "cell_type": "code",
   "execution_count": 6,
   "metadata": {},
   "outputs": [],
   "source": [
    "def make_minmax_scaler(df, cols):\n",
    "    from sklearn.preprocessing import MinMaxScaler\n",
    "    scaler = MinMaxScaler()\n",
    "    scaler.fit(df[cols])\n",
    "    return scaler"
   ]
  },
  {
   "cell_type": "code",
   "execution_count": 7,
   "metadata": {},
   "outputs": [],
   "source": [
    "def df_scale_cols(df, cols, scaler, reverse=False):\n",
    "    out = df.copy()\n",
    "    if reverse:\n",
    "        out[cols] = scaler.inverse_transform(out[cols])\n",
    "    else:\n",
    "        out[cols] = scaler.transform(out[cols])\n",
    "    return out\n"
   ]
  },
  {
   "cell_type": "markdown",
   "metadata": {},
   "source": [
    "### Scaling"
   ]
  },
  {
   "cell_type": "code",
   "execution_count": 8,
   "metadata": {},
   "outputs": [],
   "source": [
    "scale_cols = [\n",
    "#  'logerror',\n",
    " 'bedroomcnt',\n",
    " 'calc_bath',\n",
    " 'structure_sqft',\n",
    " 'fullbathcnt',\n",
    " 'latitude',\n",
    " 'longitude',\n",
    " 'lot_sqft',\n",
    " 'roomcnt',\n",
    " 'tax_structure',\n",
    " 'tax',\n",
    " 'tax_land',\n",
    " 'years_tax_delinquent',\n",
    " 'bathroom_sum',\n",
    " 'age',\n",
    " ]"
   ]
  },
  {
   "cell_type": "code",
   "execution_count": 9,
   "metadata": {},
   "outputs": [],
   "source": [
    "scaler1 = make_minmax_scaler(train, scale_cols)\n"
   ]
  },
  {
   "cell_type": "code",
   "execution_count": 10,
   "metadata": {},
   "outputs": [],
   "source": [
    "train = df_scale_cols(train, scale_cols, scaler1)\n",
    "test = df_scale_cols(test, scale_cols, scaler1)\n",
    "validate = df_scale_cols(validate, scale_cols, scaler1)"
   ]
  },
  {
   "cell_type": "markdown",
   "metadata": {},
   "source": [
    "### Clustering"
   ]
  },
  {
   "cell_type": "code",
   "execution_count": 11,
   "metadata": {},
   "outputs": [],
   "source": [
    "cluster1_cols = ['age','tax']\n",
    "clusterer1 = build_kmeans_clusterer(train, cluster1_cols, k=6)\n",
    "\n",
    "cluster2_cols = ['latitude','longitude','age', 'tax']\n",
    "clusterer2 = build_kmeans_clusterer(train, cluster2_cols, k=6)\n",
    "\n",
    "cluster3_cols = ['latitude','longitude','structure_sqft','lot_sqft']\n",
    "clusterer3 = build_kmeans_clusterer(train, cluster3_cols, k=5)\n",
    "\n",
    "all_clusterers = [(clusterer1, cluster1_cols), (clusterer2, cluster2_cols), (clusterer3, cluster3_cols)]"
   ]
  },
  {
   "cell_type": "code",
   "execution_count": 12,
   "metadata": {},
   "outputs": [],
   "source": [
    "def df_add_clusters(df: pd.DataFrame, clusterer_col_tuples: list):\n",
    "    \n",
    "    out = df.copy()\n",
    "    for i, (clusterer, cols) in enumerate(clusterer_col_tuples):\n",
    "        out['cluster'+str(i+1)] = clusterer.predict(out[cols])\n",
    "    return out"
   ]
  },
  {
   "cell_type": "code",
   "execution_count": 13,
   "metadata": {},
   "outputs": [],
   "source": [
    "train = df_add_clusters(train, all_clusterers)\n",
    "test = df_add_clusters(test, all_clusterers)\n",
    "validate = df_add_clusters(validate, all_clusterers)"
   ]
  },
  {
   "cell_type": "code",
   "execution_count": 33,
   "metadata": {},
   "outputs": [],
   "source": [
    "ytrain = train.logerror\n",
    "ytest = test.logerror\n",
    "yval = validate.logerror"
   ]
  },
  {
   "cell_type": "code",
   "execution_count": 14,
   "metadata": {},
   "outputs": [
    {
     "data": {
      "text/html": [
       "<div>\n",
       "<style scoped>\n",
       "    .dataframe tbody tr th:only-of-type {\n",
       "        vertical-align: middle;\n",
       "    }\n",
       "\n",
       "    .dataframe tbody tr th {\n",
       "        vertical-align: top;\n",
       "    }\n",
       "\n",
       "    .dataframe thead th {\n",
       "        text-align: right;\n",
       "    }\n",
       "</style>\n",
       "<table border=\"1\" class=\"dataframe\">\n",
       "  <thead>\n",
       "    <tr style=\"text-align: right;\">\n",
       "      <th></th>\n",
       "      <th>cluster1</th>\n",
       "      <th>cluster2</th>\n",
       "      <th>cluster3</th>\n",
       "    </tr>\n",
       "  </thead>\n",
       "  <tbody>\n",
       "    <tr>\n",
       "      <th>10842</th>\n",
       "      <td>5</td>\n",
       "      <td>1</td>\n",
       "      <td>1</td>\n",
       "    </tr>\n",
       "    <tr>\n",
       "      <th>46666</th>\n",
       "      <td>4</td>\n",
       "      <td>5</td>\n",
       "      <td>2</td>\n",
       "    </tr>\n",
       "    <tr>\n",
       "      <th>29083</th>\n",
       "      <td>5</td>\n",
       "      <td>1</td>\n",
       "      <td>4</td>\n",
       "    </tr>\n",
       "    <tr>\n",
       "      <th>44486</th>\n",
       "      <td>4</td>\n",
       "      <td>5</td>\n",
       "      <td>2</td>\n",
       "    </tr>\n",
       "    <tr>\n",
       "      <th>49011</th>\n",
       "      <td>1</td>\n",
       "      <td>1</td>\n",
       "      <td>3</td>\n",
       "    </tr>\n",
       "  </tbody>\n",
       "</table>\n",
       "</div>"
      ],
      "text/plain": [
       "       cluster1  cluster2  cluster3\n",
       "10842         5         1         1\n",
       "46666         4         5         2\n",
       "29083         5         1         4\n",
       "44486         4         5         2\n",
       "49011         1         1         3"
      ]
     },
     "execution_count": 14,
     "metadata": {},
     "output_type": "execute_result"
    }
   ],
   "source": [
    "train.head().iloc[:,-3:]"
   ]
  },
  {
   "cell_type": "markdown",
   "metadata": {},
   "source": [
    "## Modeling"
   ]
  },
  {
   "cell_type": "markdown",
   "metadata": {},
   "source": [
    "### Baseline Model"
   ]
  },
  {
   "cell_type": "code",
   "execution_count": 15,
   "metadata": {},
   "outputs": [
    {
     "data": {
      "text/plain": [
       "0.016146390665833673"
      ]
     },
     "execution_count": 15,
     "metadata": {},
     "output_type": "execute_result"
    }
   ],
   "source": [
    "baseline_val = train.logerror.mean()\n",
    "baseline_val"
   ]
  },
  {
   "cell_type": "code",
   "execution_count": 16,
   "metadata": {},
   "outputs": [],
   "source": [
    "class BaselineRegressor:\n",
    "    \"\"\" A simple class meant to mimic sklearn's modeling methods so that I can standardize my workflow.\n",
    "    Assumes that you are fitting a single predictor.  \n",
    "    For multiple predictors you will need multiple instances of this class.\n",
    "    \n",
    "    TODO: Handle multi-dimensional predictors\n",
    "    TODO: Handle saving feature names\n",
    "    \"\"\"\n",
    "    def __init__(self):\n",
    "        \"\"\"This isn't needed, but I'm leaving this here to remind myself that it's a thing.\"\"\"\n",
    "        pass\n",
    "\n",
    "\n",
    "    def fit(self, y):\n",
    "        \"\"\"Calculates the mean for the target variable and assigns it to this instance.\"\"\"\n",
    "        if len(y.shape) == 1:\n",
    "            self.baseline = y.mean()\n",
    "        else:\n",
    "             raise ValueError('Expected a 1 dimensional array.')\n",
    "\n",
    "    def predict(self, x):\n",
    "        \"\"\"Always predicts the mean value.\"\"\"\n",
    "        n_predictions = len(x)\n",
    "        return np.full((n_predictions), self.baseline)"
   ]
  },
  {
   "cell_type": "code",
   "execution_count": 17,
   "metadata": {},
   "outputs": [
    {
     "name": "stdout",
     "output_type": "stream",
     "text": [
      "0.016146390665833673\n"
     ]
    }
   ],
   "source": [
    "baseline = BaselineRegressor()\n",
    "baseline.fit(train.logerror)\n",
    "print(baseline.baseline)"
   ]
  },
  {
   "cell_type": "code",
   "execution_count": 18,
   "metadata": {},
   "outputs": [
    {
     "data": {
      "text/plain": [
       "((24603,),\n",
       " array([0.01614639, 0.01614639, 0.01614639, ..., 0.01614639, 0.01614639,\n",
       "        0.01614639]))"
      ]
     },
     "execution_count": 18,
     "metadata": {},
     "output_type": "execute_result"
    }
   ],
   "source": [
    "pred_baseline_train = baseline.predict(train)\n",
    "pred_baseline_train.shape, pred_baseline_train"
   ]
  },
  {
   "cell_type": "code",
   "execution_count": 19,
   "metadata": {},
   "outputs": [],
   "source": [
    "train['baseline'] = pred_baseline_train"
   ]
  },
  {
   "cell_type": "code",
   "execution_count": 20,
   "metadata": {},
   "outputs": [
    {
     "data": {
      "text/html": [
       "<div>\n",
       "<style scoped>\n",
       "    .dataframe tbody tr th:only-of-type {\n",
       "        vertical-align: middle;\n",
       "    }\n",
       "\n",
       "    .dataframe tbody tr th {\n",
       "        vertical-align: top;\n",
       "    }\n",
       "\n",
       "    .dataframe thead th {\n",
       "        text-align: right;\n",
       "    }\n",
       "</style>\n",
       "<table border=\"1\" class=\"dataframe\">\n",
       "  <thead>\n",
       "    <tr style=\"text-align: right;\">\n",
       "      <th></th>\n",
       "      <th>cluster1</th>\n",
       "      <th>cluster2</th>\n",
       "      <th>cluster3</th>\n",
       "      <th>baseline</th>\n",
       "    </tr>\n",
       "  </thead>\n",
       "  <tbody>\n",
       "    <tr>\n",
       "      <th>10842</th>\n",
       "      <td>5</td>\n",
       "      <td>1</td>\n",
       "      <td>1</td>\n",
       "      <td>0.016146</td>\n",
       "    </tr>\n",
       "    <tr>\n",
       "      <th>46666</th>\n",
       "      <td>4</td>\n",
       "      <td>5</td>\n",
       "      <td>2</td>\n",
       "      <td>0.016146</td>\n",
       "    </tr>\n",
       "    <tr>\n",
       "      <th>29083</th>\n",
       "      <td>5</td>\n",
       "      <td>1</td>\n",
       "      <td>4</td>\n",
       "      <td>0.016146</td>\n",
       "    </tr>\n",
       "    <tr>\n",
       "      <th>44486</th>\n",
       "      <td>4</td>\n",
       "      <td>5</td>\n",
       "      <td>2</td>\n",
       "      <td>0.016146</td>\n",
       "    </tr>\n",
       "    <tr>\n",
       "      <th>49011</th>\n",
       "      <td>1</td>\n",
       "      <td>1</td>\n",
       "      <td>3</td>\n",
       "      <td>0.016146</td>\n",
       "    </tr>\n",
       "  </tbody>\n",
       "</table>\n",
       "</div>"
      ],
      "text/plain": [
       "       cluster1  cluster2  cluster3  baseline\n",
       "10842         5         1         1  0.016146\n",
       "46666         4         5         2  0.016146\n",
       "29083         5         1         4  0.016146\n",
       "44486         4         5         2  0.016146\n",
       "49011         1         1         3  0.016146"
      ]
     },
     "execution_count": 20,
     "metadata": {},
     "output_type": "execute_result"
    }
   ],
   "source": [
    "train.head().iloc[:, -4:]"
   ]
  },
  {
   "cell_type": "code",
   "execution_count": 21,
   "metadata": {},
   "outputs": [],
   "source": [
    "y_train = train.logerror"
   ]
  },
  {
   "cell_type": "code",
   "execution_count": 22,
   "metadata": {},
   "outputs": [],
   "source": [
    "def regression_metrics(actual: pd.Series, predicted: pd.Series) -> dict:\n",
    "\n",
    "    import math\n",
    "    from sklearn import metrics\n",
    "    \n",
    "    y = actual\n",
    "    yhat = predicted\n",
    "    resid_p = y - yhat\n",
    "    sum_of_squared_errors = (resid_p**2).sum()\n",
    "\n",
    "    error_metrics = {\n",
    "        'max_error': metrics.max_error(actual, predicted),\n",
    "        'sum_squared_error' : sum_of_squared_errors,\n",
    "        'mean_squared_error' : metrics.mean_squared_error(actual, predicted),\n",
    "        'root_mean_squared_error' : metrics.mean_squared_error(actual, predicted, squared=False),\n",
    "        'mean_aboslute_error' : metrics.mean_absolute_error(actual, predicted),\n",
    "        'r2_score' : metrics.r2_score(actual, predicted, force_finite=False)\n",
    "    }\n",
    "\n",
    "    return error_metrics"
   ]
  },
  {
   "cell_type": "code",
   "execution_count": 23,
   "metadata": {},
   "outputs": [
    {
     "data": {
      "text/plain": [
       "{'max_error': 4.6715667683058335,\n",
       " 'sum_squared_error': 624.5884000681382,\n",
       " 'mean_squared_error': 0.025386676424344112,\n",
       " 'root_mean_squared_error': 0.15933196924768148,\n",
       " 'mean_aboslute_error': 0.0674653209139151,\n",
       " 'r2_score': 0.0}"
      ]
     },
     "execution_count": 23,
     "metadata": {},
     "output_type": "execute_result"
    }
   ],
   "source": [
    "regression_metrics(y_train, pred_baseline_train)"
   ]
  },
  {
   "cell_type": "code",
   "execution_count": 35,
   "metadata": {},
   "outputs": [
    {
     "data": {
      "text/html": [
       "<div>\n",
       "<style scoped>\n",
       "    .dataframe tbody tr th:only-of-type {\n",
       "        vertical-align: middle;\n",
       "    }\n",
       "\n",
       "    .dataframe tbody tr th {\n",
       "        vertical-align: top;\n",
       "    }\n",
       "\n",
       "    .dataframe thead th {\n",
       "        text-align: right;\n",
       "    }\n",
       "</style>\n",
       "<table border=\"1\" class=\"dataframe\">\n",
       "  <thead>\n",
       "    <tr style=\"text-align: right;\">\n",
       "      <th></th>\n",
       "      <th>max_error</th>\n",
       "      <th>sum_squared_error</th>\n",
       "      <th>mean_squared_error</th>\n",
       "      <th>root_mean_squared_error</th>\n",
       "      <th>mean_aboslute_error</th>\n",
       "      <th>r2_score</th>\n",
       "    </tr>\n",
       "  </thead>\n",
       "  <tbody>\n",
       "    <tr>\n",
       "      <th>train_baseline</th>\n",
       "      <td>4.671567</td>\n",
       "      <td>624.588400</td>\n",
       "      <td>0.025387</td>\n",
       "      <td>0.159332</td>\n",
       "      <td>0.067465</td>\n",
       "      <td>0.000000</td>\n",
       "    </tr>\n",
       "    <tr>\n",
       "      <th>test_baseline</th>\n",
       "      <td>3.159542</td>\n",
       "      <td>305.544762</td>\n",
       "      <td>0.029876</td>\n",
       "      <td>0.172848</td>\n",
       "      <td>0.070545</td>\n",
       "      <td>-0.000251</td>\n",
       "    </tr>\n",
       "    <tr>\n",
       "      <th>validate_baseline</th>\n",
       "      <td>3.378398</td>\n",
       "      <td>295.619116</td>\n",
       "      <td>0.028906</td>\n",
       "      <td>0.170017</td>\n",
       "      <td>0.071659</td>\n",
       "      <td>-0.000021</td>\n",
       "    </tr>\n",
       "  </tbody>\n",
       "</table>\n",
       "</div>"
      ],
      "text/plain": [
       "                   max_error  sum_squared_error  mean_squared_error  \\\n",
       "train_baseline      4.671567         624.588400            0.025387   \n",
       "test_baseline       3.159542         305.544762            0.029876   \n",
       "validate_baseline   3.378398         295.619116            0.028906   \n",
       "\n",
       "                   root_mean_squared_error  mean_aboslute_error  r2_score  \n",
       "train_baseline                    0.159332             0.067465  0.000000  \n",
       "test_baseline                     0.172848             0.070545 -0.000251  \n",
       "validate_baseline                 0.170017             0.071659 -0.000021  "
      ]
     },
     "execution_count": 35,
     "metadata": {},
     "output_type": "execute_result"
    }
   ],
   "source": [
    "model_metrics = {}\n",
    "model_metrics['train_baseline'] = regression_metrics(ytrain, baseline.predict(ytrain))\n",
    "model_metrics['test_baseline'] = regression_metrics(ytest, baseline.predict(ytest))\n",
    "model_metrics['validate_baseline'] = regression_metrics(yval, baseline.predict(yval))\n",
    "pd.DataFrame.from_dict(model_metrics, orient='index')"
   ]
  },
  {
   "cell_type": "code",
   "execution_count": 39,
   "metadata": {},
   "outputs": [],
   "source": [
    "def display_metrics(metrics=model_metrics):\n",
    "    return pd.DataFrame.from_dict(metrics, orient='index')"
   ]
  },
  {
   "cell_type": "markdown",
   "metadata": {},
   "source": [
    "### Model 1 - Clusters only (all clusters)"
   ]
  },
  {
   "cell_type": "code",
   "execution_count": 25,
   "metadata": {},
   "outputs": [],
   "source": [
    "def plot_residuals(actual, predicted):\n",
    "    yhat = predicted\n",
    "    resid_p = actual - yhat\n",
    "\n",
    "    fig, ax1 = plt.subplots(1, 1, constrained_layout=True, sharey=True, figsize=(7,4))\n",
    "    ax1.set_title('Predicted Residuals')\n",
    "    ax1.set_ylabel('Error')\n",
    "    ax1.set_xlabel('Predicted Value')\n",
    "    ax1.ticklabel_format(useOffset=False, style='plain')\n",
    "    ax1.scatter(x=yhat, y=resid_p)\n",
    "    plt.show()"
   ]
  },
  {
   "cell_type": "code",
   "execution_count": 26,
   "metadata": {},
   "outputs": [
    {
     "data": {
      "text/html": [
       "<div>\n",
       "<style scoped>\n",
       "    .dataframe tbody tr th:only-of-type {\n",
       "        vertical-align: middle;\n",
       "    }\n",
       "\n",
       "    .dataframe tbody tr th {\n",
       "        vertical-align: top;\n",
       "    }\n",
       "\n",
       "    .dataframe thead th {\n",
       "        text-align: right;\n",
       "    }\n",
       "</style>\n",
       "<table border=\"1\" class=\"dataframe\">\n",
       "  <thead>\n",
       "    <tr style=\"text-align: right;\">\n",
       "      <th></th>\n",
       "      <th>cluster1_0</th>\n",
       "      <th>cluster1_1</th>\n",
       "      <th>cluster1_2</th>\n",
       "      <th>cluster1_3</th>\n",
       "      <th>cluster1_4</th>\n",
       "      <th>cluster1_5</th>\n",
       "      <th>cluster2_0</th>\n",
       "      <th>cluster2_1</th>\n",
       "      <th>cluster2_2</th>\n",
       "      <th>cluster2_3</th>\n",
       "      <th>cluster2_4</th>\n",
       "      <th>cluster2_5</th>\n",
       "      <th>cluster3_0</th>\n",
       "      <th>cluster3_1</th>\n",
       "      <th>cluster3_2</th>\n",
       "      <th>cluster3_3</th>\n",
       "      <th>cluster3_4</th>\n",
       "    </tr>\n",
       "  </thead>\n",
       "  <tbody>\n",
       "    <tr>\n",
       "      <th>10842</th>\n",
       "      <td>0</td>\n",
       "      <td>0</td>\n",
       "      <td>0</td>\n",
       "      <td>0</td>\n",
       "      <td>0</td>\n",
       "      <td>1</td>\n",
       "      <td>0</td>\n",
       "      <td>1</td>\n",
       "      <td>0</td>\n",
       "      <td>0</td>\n",
       "      <td>0</td>\n",
       "      <td>0</td>\n",
       "      <td>0</td>\n",
       "      <td>1</td>\n",
       "      <td>0</td>\n",
       "      <td>0</td>\n",
       "      <td>0</td>\n",
       "    </tr>\n",
       "    <tr>\n",
       "      <th>46666</th>\n",
       "      <td>0</td>\n",
       "      <td>0</td>\n",
       "      <td>0</td>\n",
       "      <td>0</td>\n",
       "      <td>1</td>\n",
       "      <td>0</td>\n",
       "      <td>0</td>\n",
       "      <td>0</td>\n",
       "      <td>0</td>\n",
       "      <td>0</td>\n",
       "      <td>0</td>\n",
       "      <td>1</td>\n",
       "      <td>0</td>\n",
       "      <td>0</td>\n",
       "      <td>1</td>\n",
       "      <td>0</td>\n",
       "      <td>0</td>\n",
       "    </tr>\n",
       "    <tr>\n",
       "      <th>29083</th>\n",
       "      <td>0</td>\n",
       "      <td>0</td>\n",
       "      <td>0</td>\n",
       "      <td>0</td>\n",
       "      <td>0</td>\n",
       "      <td>1</td>\n",
       "      <td>0</td>\n",
       "      <td>1</td>\n",
       "      <td>0</td>\n",
       "      <td>0</td>\n",
       "      <td>0</td>\n",
       "      <td>0</td>\n",
       "      <td>0</td>\n",
       "      <td>0</td>\n",
       "      <td>0</td>\n",
       "      <td>0</td>\n",
       "      <td>1</td>\n",
       "    </tr>\n",
       "    <tr>\n",
       "      <th>44486</th>\n",
       "      <td>0</td>\n",
       "      <td>0</td>\n",
       "      <td>0</td>\n",
       "      <td>0</td>\n",
       "      <td>1</td>\n",
       "      <td>0</td>\n",
       "      <td>0</td>\n",
       "      <td>0</td>\n",
       "      <td>0</td>\n",
       "      <td>0</td>\n",
       "      <td>0</td>\n",
       "      <td>1</td>\n",
       "      <td>0</td>\n",
       "      <td>0</td>\n",
       "      <td>1</td>\n",
       "      <td>0</td>\n",
       "      <td>0</td>\n",
       "    </tr>\n",
       "    <tr>\n",
       "      <th>49011</th>\n",
       "      <td>0</td>\n",
       "      <td>1</td>\n",
       "      <td>0</td>\n",
       "      <td>0</td>\n",
       "      <td>0</td>\n",
       "      <td>0</td>\n",
       "      <td>0</td>\n",
       "      <td>1</td>\n",
       "      <td>0</td>\n",
       "      <td>0</td>\n",
       "      <td>0</td>\n",
       "      <td>0</td>\n",
       "      <td>0</td>\n",
       "      <td>0</td>\n",
       "      <td>0</td>\n",
       "      <td>1</td>\n",
       "      <td>0</td>\n",
       "    </tr>\n",
       "  </tbody>\n",
       "</table>\n",
       "</div>"
      ],
      "text/plain": [
       "       cluster1_0  cluster1_1  cluster1_2  cluster1_3  cluster1_4  cluster1_5  \\\n",
       "10842           0           0           0           0           0           1   \n",
       "46666           0           0           0           0           1           0   \n",
       "29083           0           0           0           0           0           1   \n",
       "44486           0           0           0           0           1           0   \n",
       "49011           0           1           0           0           0           0   \n",
       "\n",
       "       cluster2_0  cluster2_1  cluster2_2  cluster2_3  cluster2_4  cluster2_5  \\\n",
       "10842           0           1           0           0           0           0   \n",
       "46666           0           0           0           0           0           1   \n",
       "29083           0           1           0           0           0           0   \n",
       "44486           0           0           0           0           0           1   \n",
       "49011           0           1           0           0           0           0   \n",
       "\n",
       "       cluster3_0  cluster3_1  cluster3_2  cluster3_3  cluster3_4  \n",
       "10842           0           1           0           0           0  \n",
       "46666           0           0           1           0           0  \n",
       "29083           0           0           0           0           1  \n",
       "44486           0           0           1           0           0  \n",
       "49011           0           0           0           1           0  "
      ]
     },
     "execution_count": 26,
     "metadata": {},
     "output_type": "execute_result"
    }
   ],
   "source": [
    "train_c1_dummies = pd.get_dummies(train.cluster1, prefix='cluster1')\n",
    "train_c2_dummies = pd.get_dummies(train.cluster2, prefix='cluster2')\n",
    "train_c3_dummies = pd.get_dummies(train.cluster3, prefix='cluster3')\n",
    "x1 = pd.concat([train_c1_dummies, train_c2_dummies, train_c3_dummies], axis=1)\n",
    "x1.head()"
   ]
  },
  {
   "cell_type": "code",
   "execution_count": 37,
   "metadata": {},
   "outputs": [],
   "source": [
    "test_c1_dummies = pd.get_dummies(test.cluster1, prefix='cluster1')\n",
    "test_c2_dummies = pd.get_dummies(test.cluster2, prefix='cluster2')\n",
    "test_c3_dummies = pd.get_dummies(test.cluster3, prefix='cluster3')\n",
    "t1 = pd.concat([test_c1_dummies, test_c2_dummies, test_c3_dummies], axis=1)\n",
    "\n",
    "validate_c1_dummies = pd.get_dummies(validate.cluster1, prefix='cluster1')\n",
    "validate_c2_dummies = pd.get_dummies(validate.cluster2, prefix='cluster2')\n",
    "validate_c3_dummies = pd.get_dummies(validate.cluster3, prefix='cluster3')\n",
    "v1 = pd.concat([validate_c1_dummies, validate_c2_dummies, validate_c3_dummies], axis=1)"
   ]
  },
  {
   "cell_type": "code",
   "execution_count": 28,
   "metadata": {},
   "outputs": [],
   "source": [
    "y = train.logerror"
   ]
  },
  {
   "cell_type": "code",
   "execution_count": 29,
   "metadata": {},
   "outputs": [],
   "source": [
    "from sklearn import linear_model\n",
    "m1 = linear_model.LinearRegression()\n",
    "m1.fit(x1, y)\n",
    "p1 = m1.predict(x1)\n"
   ]
  },
  {
   "cell_type": "code",
   "execution_count": 40,
   "metadata": {},
   "outputs": [
    {
     "data": {
      "text/html": [
       "<div>\n",
       "<style scoped>\n",
       "    .dataframe tbody tr th:only-of-type {\n",
       "        vertical-align: middle;\n",
       "    }\n",
       "\n",
       "    .dataframe tbody tr th {\n",
       "        vertical-align: top;\n",
       "    }\n",
       "\n",
       "    .dataframe thead th {\n",
       "        text-align: right;\n",
       "    }\n",
       "</style>\n",
       "<table border=\"1\" class=\"dataframe\">\n",
       "  <thead>\n",
       "    <tr style=\"text-align: right;\">\n",
       "      <th></th>\n",
       "      <th>max_error</th>\n",
       "      <th>sum_squared_error</th>\n",
       "      <th>mean_squared_error</th>\n",
       "      <th>root_mean_squared_error</th>\n",
       "      <th>mean_aboslute_error</th>\n",
       "      <th>r2_score</th>\n",
       "    </tr>\n",
       "  </thead>\n",
       "  <tbody>\n",
       "    <tr>\n",
       "      <th>train_baseline</th>\n",
       "      <td>4.671567</td>\n",
       "      <td>624.588400</td>\n",
       "      <td>0.025387</td>\n",
       "      <td>0.159332</td>\n",
       "      <td>0.067465</td>\n",
       "      <td>0.000000</td>\n",
       "    </tr>\n",
       "    <tr>\n",
       "      <th>test_baseline</th>\n",
       "      <td>3.159542</td>\n",
       "      <td>305.544762</td>\n",
       "      <td>0.029876</td>\n",
       "      <td>0.172848</td>\n",
       "      <td>0.070545</td>\n",
       "      <td>-0.000251</td>\n",
       "    </tr>\n",
       "    <tr>\n",
       "      <th>validate_baseline</th>\n",
       "      <td>3.378398</td>\n",
       "      <td>295.619116</td>\n",
       "      <td>0.028906</td>\n",
       "      <td>0.170017</td>\n",
       "      <td>0.071659</td>\n",
       "      <td>-0.000021</td>\n",
       "    </tr>\n",
       "    <tr>\n",
       "      <th>train_linear_all_clusters</th>\n",
       "      <td>4.665447</td>\n",
       "      <td>622.056489</td>\n",
       "      <td>0.025284</td>\n",
       "      <td>0.159009</td>\n",
       "      <td>0.067918</td>\n",
       "      <td>-234.266145</td>\n",
       "    </tr>\n",
       "  </tbody>\n",
       "</table>\n",
       "</div>"
      ],
      "text/plain": [
       "                           max_error  sum_squared_error  mean_squared_error  \\\n",
       "train_baseline              4.671567         624.588400            0.025387   \n",
       "test_baseline               3.159542         305.544762            0.029876   \n",
       "validate_baseline           3.378398         295.619116            0.028906   \n",
       "train_linear_all_clusters   4.665447         622.056489            0.025284   \n",
       "\n",
       "                           root_mean_squared_error  mean_aboslute_error  \\\n",
       "train_baseline                            0.159332             0.067465   \n",
       "test_baseline                             0.172848             0.070545   \n",
       "validate_baseline                         0.170017             0.071659   \n",
       "train_linear_all_clusters                 0.159009             0.067918   \n",
       "\n",
       "                             r2_score  \n",
       "train_baseline               0.000000  \n",
       "test_baseline               -0.000251  \n",
       "validate_baseline           -0.000021  \n",
       "train_linear_all_clusters -234.266145  "
      ]
     },
     "execution_count": 40,
     "metadata": {},
     "output_type": "execute_result"
    }
   ],
   "source": [
    "\n",
    "model_metrics['train_linear_all_clusters'] = regression_metrics(p1, y)\n",
    "display_metrics()"
   ]
  },
  {
   "cell_type": "markdown",
   "metadata": {},
   "source": [
    "Unsurprisingly.  This model doesn't work well.  Though I am curious if other algorithms can perform any better."
   ]
  },
  {
   "cell_type": "code",
   "execution_count": 45,
   "metadata": {},
   "outputs": [
    {
     "name": "stderr",
     "output_type": "stream",
     "text": [
      "c:\\Users\\Crux\\AppData\\Local\\Programs\\Python\\Python310\\lib\\site-packages\\sklearn\\metrics\\_regression.py:624: RuntimeWarning: divide by zero encountered in true_divide\n",
      "  output_scores = 1 - (numerator / denominator)\n"
     ]
    },
    {
     "data": {
      "text/html": [
       "<div>\n",
       "<style scoped>\n",
       "    .dataframe tbody tr th:only-of-type {\n",
       "        vertical-align: middle;\n",
       "    }\n",
       "\n",
       "    .dataframe tbody tr th {\n",
       "        vertical-align: top;\n",
       "    }\n",
       "\n",
       "    .dataframe thead th {\n",
       "        text-align: right;\n",
       "    }\n",
       "</style>\n",
       "<table border=\"1\" class=\"dataframe\">\n",
       "  <thead>\n",
       "    <tr style=\"text-align: right;\">\n",
       "      <th></th>\n",
       "      <th>max_error</th>\n",
       "      <th>sum_squared_error</th>\n",
       "      <th>mean_squared_error</th>\n",
       "      <th>root_mean_squared_error</th>\n",
       "      <th>mean_aboslute_error</th>\n",
       "      <th>r2_score</th>\n",
       "    </tr>\n",
       "  </thead>\n",
       "  <tbody>\n",
       "    <tr>\n",
       "      <th>train_baseline</th>\n",
       "      <td>4.671567</td>\n",
       "      <td>624.588400</td>\n",
       "      <td>0.025387</td>\n",
       "      <td>0.159332</td>\n",
       "      <td>0.067465</td>\n",
       "      <td>0.000000</td>\n",
       "    </tr>\n",
       "    <tr>\n",
       "      <th>test_baseline</th>\n",
       "      <td>3.159542</td>\n",
       "      <td>305.544762</td>\n",
       "      <td>0.029876</td>\n",
       "      <td>0.172848</td>\n",
       "      <td>0.070545</td>\n",
       "      <td>-0.000251</td>\n",
       "    </tr>\n",
       "    <tr>\n",
       "      <th>validate_baseline</th>\n",
       "      <td>3.378398</td>\n",
       "      <td>295.619116</td>\n",
       "      <td>0.028906</td>\n",
       "      <td>0.170017</td>\n",
       "      <td>0.071659</td>\n",
       "      <td>-0.000021</td>\n",
       "    </tr>\n",
       "    <tr>\n",
       "      <th>train_linear_all_clusters</th>\n",
       "      <td>4.665447</td>\n",
       "      <td>622.056489</td>\n",
       "      <td>0.025284</td>\n",
       "      <td>0.159009</td>\n",
       "      <td>0.067918</td>\n",
       "      <td>-234.266145</td>\n",
       "    </tr>\n",
       "    <tr>\n",
       "      <th>train_lassolars_all_clusters</th>\n",
       "      <td>4.671567</td>\n",
       "      <td>624.588400</td>\n",
       "      <td>0.025387</td>\n",
       "      <td>0.159332</td>\n",
       "      <td>0.067465</td>\n",
       "      <td>-inf</td>\n",
       "    </tr>\n",
       "  </tbody>\n",
       "</table>\n",
       "</div>"
      ],
      "text/plain": [
       "                              max_error  sum_squared_error  \\\n",
       "train_baseline                 4.671567         624.588400   \n",
       "test_baseline                  3.159542         305.544762   \n",
       "validate_baseline              3.378398         295.619116   \n",
       "train_linear_all_clusters      4.665447         622.056489   \n",
       "train_lassolars_all_clusters   4.671567         624.588400   \n",
       "\n",
       "                              mean_squared_error  root_mean_squared_error  \\\n",
       "train_baseline                          0.025387                 0.159332   \n",
       "test_baseline                           0.029876                 0.172848   \n",
       "validate_baseline                       0.028906                 0.170017   \n",
       "train_linear_all_clusters               0.025284                 0.159009   \n",
       "train_lassolars_all_clusters            0.025387                 0.159332   \n",
       "\n",
       "                              mean_aboslute_error    r2_score  \n",
       "train_baseline                           0.067465    0.000000  \n",
       "test_baseline                            0.070545   -0.000251  \n",
       "validate_baseline                        0.071659   -0.000021  \n",
       "train_linear_all_clusters                0.067918 -234.266145  \n",
       "train_lassolars_all_clusters             0.067465        -inf  "
      ]
     },
     "execution_count": 45,
     "metadata": {},
     "output_type": "execute_result"
    }
   ],
   "source": [
    "m1_a = linear_model.LassoLars(alpha=0.1, normalize=False)\n",
    "m1_a.fit(x1, ytrain)\n",
    "p1_a = m1_a.predict(x1)\n",
    "model_metrics['train_lassolars_all_clusters'] = regression_metrics(p1_a, ytrain)\n",
    "display_metrics()"
   ]
  },
  {
   "cell_type": "markdown",
   "metadata": {},
   "source": [
    "It looks like I don't understand LassoLARS very well and fed it an impossible task, causing it to revert to always guess the mean.   \n",
    "\n",
    "I don't think I'll get much more out of trying to model on clusters alone.  \n",
    "\n",
    "Moving on."
   ]
  },
  {
   "cell_type": "markdown",
   "metadata": {},
   "source": [
    "### Model group 2:\n",
    "structure and lot size + location/age/tax clusters (cluster2)"
   ]
  }
 ],
 "metadata": {
  "kernelspec": {
   "display_name": "Python 3.10.4 64-bit",
   "language": "python",
   "name": "python3"
  },
  "language_info": {
   "codemirror_mode": {
    "name": "ipython",
    "version": 3
   },
   "file_extension": ".py",
   "mimetype": "text/x-python",
   "name": "python",
   "nbconvert_exporter": "python",
   "pygments_lexer": "ipython3",
   "version": "3.10.4"
  },
  "orig_nbformat": 4,
  "vscode": {
   "interpreter": {
    "hash": "37b4e1d782780d9803a775659fc8b81e9cc61a0899d4564192c1f7cc3c556e45"
   }
  }
 },
 "nbformat": 4,
 "nbformat_minor": 2
}
