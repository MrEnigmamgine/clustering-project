{
 "cells": [
  {
   "cell_type": "code",
   "execution_count": 1,
   "metadata": {},
   "outputs": [],
   "source": [
    "import pandas as pd\n",
    "import numpy as np\n",
    "\n",
    "import matplotlib.pyplot as plt\n",
    "import seaborn as sns\n",
    "\n",
    "from sklearn.cluster import KMeans\n",
    "\n",
    "import wrangle\n",
    "import my_toolkit\n"
   ]
  },
  {
   "cell_type": "code",
   "execution_count": 2,
   "metadata": {},
   "outputs": [],
   "source": [
    "cluster1_cols = ['age','tax']\n",
    "cluster2_cols = ['latitude','longitude','age', 'tax']"
   ]
  },
  {
   "cell_type": "code",
   "execution_count": 3,
   "metadata": {},
   "outputs": [],
   "source": [
    "scale_cols = [\n",
    " 'logerror',\n",
    " 'bedroomcnt',\n",
    " 'calc_bath',\n",
    " 'structure_sqft',\n",
    " 'fullbathcnt',\n",
    " 'latitude',\n",
    " 'longitude',\n",
    " 'lot_sqft',\n",
    " 'roomcnt',\n",
    " 'tax_structure',\n",
    " 'tax',\n",
    " 'tax_land',\n",
    " 'years_tax_delinquent',\n",
    " 'bathroom_sum',\n",
    " 'age',\n",
    " 'logerror_upper',\n",
    " 'logerror_lower',\n",
    " 'tax_structure_ratio',\n",
    " 'tax_land_ratio',\n",
    " ]"
   ]
  },
  {
   "cell_type": "code",
   "execution_count": 4,
   "metadata": {},
   "outputs": [],
   "source": [
    "train, test, validate = wrangle.wrangle_zillow()"
   ]
  },
  {
   "cell_type": "code",
   "execution_count": null,
   "metadata": {},
   "outputs": [],
   "source": [
    "def get_kmeans_clusters(df, cols, k, clusterer=None):\n",
    "    if clusterer == None:\n",
    "        from sklearn.cluster import KMeans\n",
    "        clusterer = KMeans(n_clusters=k)\n",
    "        clusterer.fit(df[cols])\n",
    "    s = clusterer.predict(df[cols])\n",
    "    return s"
   ]
  }
 ],
 "metadata": {
  "kernelspec": {
   "display_name": "Python 3.10.4 64-bit",
   "language": "python",
   "name": "python3"
  },
  "language_info": {
   "codemirror_mode": {
    "name": "ipython",
    "version": 3
   },
   "file_extension": ".py",
   "mimetype": "text/x-python",
   "name": "python",
   "nbconvert_exporter": "python",
   "pygments_lexer": "ipython3",
   "version": "3.10.4"
  },
  "orig_nbformat": 4,
  "vscode": {
   "interpreter": {
    "hash": "37b4e1d782780d9803a775659fc8b81e9cc61a0899d4564192c1f7cc3c556e45"
   }
  }
 },
 "nbformat": 4,
 "nbformat_minor": 2
}
